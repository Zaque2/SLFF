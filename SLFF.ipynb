{
 "cells": [
  {
   "cell_type": "code",
   "execution_count": 141,
   "metadata": {},
   "outputs": [],
   "source": [
    "import sys\n",
    "import requests\n",
    "import re\n",
    "import numpy as np\n",
    "from scipy.special import erfinv\n",
    "import matplotlib.pyplot as plt\n",
    "import csv\n",
    "from IPython.display import clear_output\n",
    "\n",
    "key='ozyravmBN53mCh2imk7RmocE68QfSfjjuERYiFsqtB2j3mRog4YOoNfk4nq7t7UC'\n",
    "login={'X-TBA-Auth-Key':key}\n",
    "\n",
    "def qual_points(R,N,a=1.07):\n",
    "    return np.ceil(erfinv((N-2*R+2)/(a*N))*10/erfinv(1/a)+12)\n",
    "def pick_points(alliance,pick):\n",
    "    if(alliance==None): return 0\n",
    "    elif(pick==2): return alliance\n",
    "    else: return 17-alliance\n",
    "def score(rank,compnum,awards,c_rank,c_awards,chair,ei):\n",
    "    return 22*(1-rank)*compnum+20*awards+22*(1-c_rank)+30*c_awards+60*chair+45*ei\n",
    "def find(team,team_list):\n",
    "    team='frc'+str(team)\n",
    "    for i in range(len(team_list)):\n",
    "        if (team_list[i][0]==team): return i\n",
    "    return None\n",
    "def update_progress(progress):\n",
    "    barLength = 42 # Modify this to change the length of the progress bar\n",
    "    status = \"\"\n",
    "    if isinstance(progress, int):\n",
    "        progress = float(progress)\n",
    "    if not isinstance(progress, float):\n",
    "        progress = 0\n",
    "        status = \"error: progress var must be float\\r\\n\"\n",
    "    if progress < 0:\n",
    "        progress = 0\n",
    "        status = \"Halt...\\r\\n\"\n",
    "    if progress >= 1:\n",
    "        progress = 1\n",
    "        status = \"Done...\\r\\n\"\n",
    "    block = int(round(barLength*progress))\n",
    "    text = \"\\rPercent: [{0}] {1}% {2}\".format( \"#\"*block + \"-\"*(barLength-block), round(progress*100,3), status)\n",
    "    sys.stdout.write(text)\n",
    "    sys.stdout.flush()"
   ]
  },
  {
   "cell_type": "markdown",
   "metadata": {},
   "source": [
    "# Regionals"
   ]
  },
  {
   "cell_type": "code",
   "execution_count": 149,
   "metadata": {
    "scrolled": true
   },
   "outputs": [
    {
     "name": "stdout",
     "output_type": "stream",
     "text": [
      "29\n"
     ]
    }
   ],
   "source": [
    "event_name='2019nyut'\n",
    "teams_list=requests.get('https://www.thebluealliance.com/api/v3/event/'+event_name+'/teams/keys',params=login)\n",
    "teams=teams_list.json()\n",
    "print(len(teams))"
   ]
  },
  {
   "cell_type": "code",
   "execution_count": null,
   "metadata": {},
   "outputs": [
    {
     "name": "stdout",
     "output_type": "stream",
     "text": [
      "Percent: [#########---------------------------------] 20.69%  "
     ]
    }
   ],
   "source": [
    "team_scores=[]\n",
    "rookies=0\n",
    "update_progress(0)\n",
    "for t in teams:\n",
    "    team_no=int(re.findall(r'\\d+',t)[0])\n",
    "    if(team_no<7400):\n",
    "        metrics=[[[],[],[]],[[],[],[]],[[],[],[]]]\n",
    "        for y in ['2018','2017','2016']:#'2018','2017',\n",
    "            event_keys=requests.get('https://www.thebluealliance.com/api/v3/team/'+t+'/events/'+y+'/keys',params=login)\n",
    "            r=requests.get('https://www.thebluealliance.com/api/v3/team/'+t+'/events/'+y+'/statuses',params=login)\n",
    "            keys=event_keys.json()\n",
    "            data=r.json()\n",
    "            for k in keys:\n",
    "                if(data[k]!=None):\n",
    "                    if(data[k]['qual']!=None):\n",
    "                        event=requests.get('https://www.thebluealliance.com/api/v3/event/'+k+'/simple',params=login)\n",
    "                        if((event.json()['event_type']==1)or(event.json()['event_type']==0)):#regionals and districts\n",
    "                            awards=requests.get('https://www.thebluealliance.com/api/v3/team/'+t+'/event/'+k+'/awards',params=login).json()\n",
    "                            score=qual_points(data[k]['qual']['ranking']['rank'],data[k]['qual']['num_teams'])\n",
    "                            if(data[k]['alliance']!=None):\n",
    "                                score+=pick_points(data[k]['alliance']['number'],data[k]['alliance']['pick'])+5*data[k]['playoff']['record']['wins']\n",
    "                            for i in range(len(awards)):\n",
    "                                if(awards[i]['award_type']==0):#chairman's\n",
    "                                    score+=60\n",
    "                                if(awards[i]['award_type']==9):#engineering inspiration\n",
    "                                    score+=45\n",
    "                                if any([awards[i]['award_type'] in [16,17,20,21,29,71]]):#robot awards\n",
    "                                    score+=20\n",
    "                                if any([awards[i]['award_type'] in [22,11,27,13,18,30]]):#others\n",
    "                                    score+=5\n",
    "                            metrics[2018-int(y)][0].append(score)\n",
    "                        elif(event.json()['event_type']==3):#champs divisions\n",
    "                            awards=requests.get('https://www.thebluealliance.com/api/v3/team/'+t+'/event/'+k+'/awards',params=login).json()\n",
    "                            score=qual_points(data[k]['qual']['ranking']['rank'],data[k]['qual']['num_teams'])\n",
    "                            if(data[k]['alliance']!=None):\n",
    "                                score+=pick_points(data[k]['alliance']['number'],data[k]['alliance']['pick'])+5*data[k]['playoff']['record']['wins']\n",
    "                            for i in range(len(awards)):\n",
    "                                if(awards[i]['award_type']==0):#chairman's\n",
    "                                    score+=110\n",
    "                                if(awards[i]['award_type']==69):#chairman's finalist\n",
    "                                    score+=90\n",
    "                                if(awards[i]['award_type']==9):#engineering inspiration\n",
    "                                    score+=45\n",
    "                                if any([awards[i]['award_type'] in [16,17,20,21,29,71]]):#robot awards\n",
    "                                    score+=30\n",
    "                                if any([awards[i]['award_type'] in [22,11,27,13,18,30]]):#others\n",
    "                                    score+=10\n",
    "                            metrics[2018-int(y)][1].append(score)\n",
    "                    elif(data[k]['playoff']!=None):\n",
    "                        event=requests.get('https://www.thebluealliance.com/api/v3/event/'+k+'/simple',params=login)\n",
    "                        if(event.json()['event_type']==4):#einstein\n",
    "                            awards=requests.get('https://www.thebluealliance.com/api/v3/team/'+t+'/event/'+k+'/awards',params=login).json()\n",
    "                            score=5+5*data[k]['playoff']['record']['wins']\n",
    "                            for i in range(len(awards)):\n",
    "                                if(awards[i]['award_type']==0):#chairman's\n",
    "                                    score+=110\n",
    "                                if(awards[i]['award_type']==69):#chairman's finalist\n",
    "                                    score+=90\n",
    "                                if(awards[i]['award_type']==9):#engineering inspiration\n",
    "                                    score+=45\n",
    "                                if any([awards[i]['award_type'] in [16,17,20,21,29,71]]):#robot awards\n",
    "                                    score+=30\n",
    "                                if any([awards[i]['award_type'] in [22,11,27,13,18,30]]):#others\n",
    "                                    score+=10\n",
    "                            metrics[2018-int(y)][2].append(score)\n",
    "        mean=np.zeros(3)\n",
    "        std=np.zeros(3)\n",
    "        for i in range(3):\n",
    "            if(len(metrics[0][i])+len(metrics[1][i])+len(metrics[2][i])==0):\n",
    "                mean[i]=0\n",
    "            else:\n",
    "                mean[i]=(sum(metrics[0][i])+sum(metrics[1][i])/2+sum(metrics[2][i])/3)/(len(metrics[0][i])+len(metrics[1][i])/2+len(metrics[2][i])/3)\n",
    "            if(len(metrics[0][i]+metrics[1][i]+metrics[2][i])==0):\n",
    "                std[i]=0\n",
    "            elif((len(metrics[0][i]+metrics[1][i]+metrics[2][i])<=3)&(i==0)):\n",
    "                std[i]=13.3\n",
    "            else:\n",
    "                std[i]=np.std(metrics[0][i]+metrics[1][i]+metrics[2][i])\n",
    "        team_scores.append([team_no,round(mean[0]-std[0],1),round(mean[1]-std[1],1),round(mean[2]-std[2],1)])\n",
    "    else:\n",
    "        rookies+=1\n",
    "    update_progress((teams.index(t)+1)/len(teams))\n",
    "if(rookies>0): team_scores.append(['Rookie',round((40/rookies+13+236/len(teams))-19.2,1),0,0])#40pts from rookie awards,13 avg ranking points,236 picking points\n",
    "team_scores.sort(key=lambda score: score[1], reverse=True)\n",
    "\n",
    "filename=event_name+'.csv'\n",
    "with open(filename,'a',newline='') as csv_file:\n",
    "    writer=csv.writer(csv_file)\n",
    "    for i in range(len(team_scores)):\n",
    "        writer.writerow(team_scores[i])\n",
    "        \n",
    "clear_output()\n",
    "print(str(rookies)+' Rookies')\n",
    "print(team_scores)#"
   ]
  },
  {
   "cell_type": "code",
   "execution_count": 4,
   "metadata": {},
   "outputs": [
    {
     "data": {
      "text/plain": [
       "<matplotlib.collections.PathCollection at 0x8be2cc0>"
      ]
     },
     "execution_count": 4,
     "metadata": {},
     "output_type": "execute_result"
    },
    {
     "data": {
      "image/png": "[encoded data removed]",
      "text/plain": [
       "<Figure size 72x432 with 1 Axes>"
      ]
     },
     "metadata": {},
     "output_type": "display_data"
    }
   ],
   "source": [
    "x=[0] *len(team_scores)\n",
    "y=[x[1] for x in team_scores]\n",
    "\n",
    "tot_score=236+85+60+45+25+15+20*5+10+9*5\n",
    "for i in range(1,len(teams)+1):\n",
    "    tot_score+=qual_points(i,len(teams))\n",
    "\n",
    "fig1=plt.figure(figsize=[1,6])\n",
    "ax1=plt.axes()\n",
    "ax1.axes.get_xaxis().set_visible(False)\n",
    "plt.axhline(y=tot_score/len(teams),c='black',linestyle='--')\n",
    "plt.scatter(x,y)\n",
    "plt.scatter(0,y[ind],c='red')"
   ]
  },
  {
   "cell_type": "markdown",
   "metadata": {},
   "source": [
    "# Districts"
   ]
  },
  {
   "cell_type": "code",
   "execution_count": 15,
   "metadata": {},
   "outputs": [
    {
     "name": "stdout",
     "output_type": "stream",
     "text": [
      "549\n"
     ]
    }
   ],
   "source": [
    "event_name='2019fim'\n",
    "teams_list=requests.get('https://www.thebluealliance.com/api/v3/district/'+event_name+'/teams/keys',params=login)\n",
    "teams=teams_list.json()\n",
    "print(len(teams))"
   ]
  },
  {
   "cell_type": "code",
   "execution_count": 18,
   "metadata": {},
   "outputs": [
    {
     "name": "stdout",
     "output_type": "stream",
     "text": [
      "539: 58 Rookies\n",
      "[[2767, 69.6, 57.7, 30.0], [33, 67.0, 51.4, 0.0], [3656, 66.2, 14.3, 0.0], [4003, 64.9, 47.3, 15.0], [3452, 64.5, 37.4, 15.0], [2337, 62.2, 27.7, 0.0], [494, 61.7, 47.2, 10.0], [3538, 61.3, 29.4, 5.0], [2834, 61.1, 12.7, 0.0], [1718, 57.9, 20.7, 0.0], [5505, 55.8, 12.9, 0.0], [2619, 55.7, 18.5, 0.0], [67, 54.4, 42.9, 10.0], [3641, 54.3, 42.2, 0.0], [910, 54.2, 51.6, 0.0], [4391, 54.1, 3.8, 0.0], [3357, 52.9, 36.5, 20.0], [1025, 52.3, 26.5, 0.0], [3618, 51.2, -2.3, 0.0], [3770, 51.2, 14.1, 0.0], [5114, 51.2, 26.4, 0.0], [2137, 50.6, 42.5, 10.0], [3620, 50.2, 34.3, 0.0], [2054, 49.3, 40.2, 0.0], [1918, 48.3, 32.9, 0.0], [3604, 47.6, 21.2, 0.0], [85, 47.5, 23.9, 0.0], [217, 47.3, 40.3, 8.8], [1684, 47.2, 20.5, 0.0], [1711, 45.8, 5.0, 0.0], [27, 45.5, 47.2, 30.0], [3536, 45.3, 20.8, 0.0], [5050, 45.3, 45.0, 10.0], [5460, 44.6, 18.2, 0.0], [503, 44.3, 17.4, 0.0], [302, 41.0, 18.5, 20.0], [3542, 40.9, 37.0, 0.0], [5980, 39.8, 10.8, 0.0], [1023, 39.5, 19.3, 0.0], [2474, 39.5, 30.0, 0.0], [4237, 39.5, 33.0, 0.0], [66, 39.4, 9.1, 0.0], [862, 39.2, 32.8, 30.0], [857, 38.6, 5.0, 0.0], [4970, 38.4, 7.0, 0.0], [51, 38.4, 22.0, 10.0], [1189, 37.9, 50.0, 0.0], [5150, 37.9, 24.9, 0.0], [6193, 37.8, 12.0, 0.0], [2771, 37.6, 23.0, 0.0], [4377, 37.6, 23.0, 0.0], [4392, 37.5, 16.0, 0.0], [1322, 37.2, 50.0, 0.0], [245, 37.2, 22.4, 0.0], [5843, 37.0, 0.0, 0.0], [1506, 36.7, 18.5, 0.0], [70, 36.7, 29.3, 20.0], [1701, 35.7, 15.0, 0.0], [4779, 35.7, 37.0, 0.0], [1596, 35.5, 0.0, 0.0], [141, 35.2, 23.0, 0.0], [5230, 34.1, 0.0, 0.0], [5234, 34.1, 23.0, 0.0], [3535, 34.0, 11.0, 0.0], [4362, 33.8, 22.6, 0.0], [3767, 33.4, 10.0, 0.0], [3668, 33.0, 0.0, 0.0], [5712, 32.8, 17.8, 0.0], [4967, 32.7, 37.7, 20.0], [3098, 32.3, 26.5, 0.0], [5675, 31.8, 17.3, 0.0], [5046, 31.3, 0.0, 0.0], [6090, 31.1, 61.0, 20.0], [201, 30.9, 7.0, 0.0], [5509, 30.8, 14.0, 0.0], [6098, 30.8, 10.0, 0.0], [6548, 30.6, 6.2, 0.0], [74, 30.6, 7.0, 0.0], [3602, 30.5, 11.0, 0.0], [5053, 30.4, 14.2, 0.0], [573, 30.3, 9.5, 0.0], [314, 30.1, 32.5, 0.0], [3546, 29.8, 21.8, 0.0], [7256, 29.7, 0.0, 0.0], [4325, 29.5, 8.0, 0.0], [6121, 29.3, 12.0, 0.0], [2075, 29.1, 15.0, 0.0], [5561, 29.1, 18.0, 0.0], [3534, 28.9, 11.8, 0.0], [3707, 28.9, 98.0, 20.0], [3539, 28.8, 23.0, 0.0], [1250, 28.7, 26.0, 0.0], [3688, 28.4, 46.0, 0.0], [5907, 28.3, 9.5, 0.0], [1481, 27.9, 12.2, 0.0], [3667, 27.7, 30.0, 0.0], [4384, 27.6, 12.5, 0.0], [703, 27.5, 0.0, 0.0], [4819, 27.2, 0.0, 0.0], [6077, 27.2, 15.0, 0.0], [5155, 26.6, 37.0, 0.0], [6753, 26.5, 7.5, 0.0], [469, 26.3, 41.3, 0.0], [5674, 26.3, 11.0, 0.0], [4405, 26.0, 9.9, 0.0], [123, 25.9, 16.0, 0.0], [6618, 25.6, 12.0, 0.0], [818, 25.3, 0.0, 0.0], [548, 25.2, 17.5, 0.0], [3547, 24.8, 13.0, 0.0], [5084, 24.3, 9.0, 0.0], [5205, 23.8, 22.7, 0.0], [3655, 23.6, 10.0, 0.0], [5523, 23.5, 0.0, 0.0], [5216, 23.4, 12.0, 0.0], [904, 23.4, 14.0, 0.0], [308, 23.3, 0.0, 0.0], [4381, 23.2, 0.0, 0.0], [5166, 23.2, 7.6, 0.0], [7187, 23.2, 0.0, 0.0], [7211, 23.2, 0.0, 0.0], [4216, 23.0, 12.0, 0.0], [4409, 22.9, 0.0, 0.0], [4680, 22.9, 7.0, 0.0], [5560, 22.8, 0.0, 0.0], [5567, 22.8, 23.0, 0.0], [2959, 22.7, 0.0, 0.0], [3570, 22.7, 0.0, 0.0], [68, 22.7, 8.1, 0.0], [2611, 22.4, 48.0, 0.0], [4961, 22.4, 29.0, 0.0], [226, 22.2, 34.0, 0.0], [3175, 22.0, 10.0, 0.0], [6117, 22.0, 0.0, 0.0], [5901, 21.7, 0.0, 0.0], [7218, 21.7, 0.0, 0.0], [7234, 21.7, 0.0, 0.0], [94, 21.5, 0.0, 0.0], [2586, 21.2, 4.5, 0.0], [5524, 20.9, 0.0, 0.0], [4395, 20.8, 0.0, 0.0], [7178, 20.7, 0.0, 0.0], [4130, 20.5, 58.0, 20.0], [6558, 20.5, 0.0, 0.0], [5462, 20.4, 5.0, 0.0], [5603, 20.3, 14.0, 0.0], [6861, 20.2, 0.0, 0.0], [2145, 20.1, 0.0, 0.0], [4983, 20.1, 0.0, 0.0], [5167, 19.9, 13.0, 0.0], [5530, 19.8, 0.0, 0.0], [4855, 19.7, 29.0, 0.0], [6637, 19.7, 11.0, 0.0], [7144, 19.7, 0.0, 0.0], [7213, 19.7, 0.0, 0.0], [107, 19.4, 10.6, 0.0], [5467, 19.4, 0.0, 0.0], [6538, 19.2, 44.0, 0.0], [830, 19.2, 0.0, 0.0], [2851, 19.1, 12.0, 0.0], [4776, 19.0, 35.0, 0.0], [1188, 18.9, 0.0, 0.0], [5612, 18.9, 0.0, 0.0], [6086, 18.4, 12.0, 0.0], [1504, 18.3, 0.0, 0.0], [4994, 18.3, 0.0, 0.0], [5152, 18.2, 0.0, 0.0], [5501, 18.2, 0.0, 0.0], [7054, 18.2, 0.0, 0.0], [6085, 18.0, 0.0, 0.0], [5860, 17.9, 0.0, 0.0], [6088, 17.9, 0.0, 0.0], [1243, 17.8, 0.0, 0.0], [6615, 17.8, 0.0, 0.0], [5048, 17.7, 10.0, 0.0], [2832, 17.6, 5.2, 0.0], [5424, 17.6, 0.0, 0.0], [3603, 17.4, 0.0, 0.0], [5525, 17.2, 0.0, 0.0], [7154, 17.2, 0.0, 0.0], [244, 17.1, 16.0, 0.0], [2960, 17.0, 41.0, 0.0], [5547, 17.0, 0.0, 0.0], [7248, 16.7, 0.0, 0.0], [5067, 16.6, 0.0, 0.0], [5224, 16.6, 0.0, 0.0], [6020, 16.6, 0.0, 0.0], [5436, 16.4, 20.0, 0.0], [5676, 16.4, 0.0, 0.0], [6113, 16.4, 0.0, 0.0], [4376, 16.3, 0.0, 0.0], [5517, 16.3, 17.0, 0.0], [5534, 16.3, 0.0, 0.0], [5878, 16.3, 16.0, 0.0], [4327, 16.2, 9.0, 0.0], [6099, 16.2, 0.0, 0.0], [5623, 16.1, 0.0, 0.0], [4810, 15.8, 6.0, 0.0], [4004, 15.7, 53.0, 0.0], [7226, 15.7, 15.0, 0.0], [2604, 15.6, 6.0, 0.0], [4375, 15.6, 0.0, 0.0], [894, 15.4, 13.5, 0.0], [5502, 15.3, 0.0, 0.0], [815, 15.3, 0.0, 0.0], [5531, 15.0, 4.0, 0.0], [5069, 14.9, 0.0, 0.0], [6043, 14.7, 0.0, 0.0], [7225, 14.7, 14.0, 0.0], [5535, 14.6, 0.0, 0.0], [6067, 14.6, 0.0, 0.0], [5204, 14.3, 0.0, 0.0], [5256, 14.1, 0.0, 0.0], [6742, 14.1, 0.0, 0.0], [5498, 13.8, 0.0, 0.0], [5193, 13.7, 0.0, 0.0], [5222, 13.7, 13.0, 0.0], [5555, 13.7, 0.0, 0.0], [2620, 13.6, 3.0, 0.0], [5238, 13.6, 0.0, 0.0], [6087, 13.5, 0.0, 0.0], [247, 13.4, 12.0, 0.0], [5263, 13.3, 0.0, 0.0], [5927, 13.2, 0.0, 0.0], [5229, 13.0, 0.0, 0.0], [5915, 13.0, 6.0, 0.0], [4956, 12.8, 0.0, 0.0], [4737, 12.7, 0.0, 0.0], [6002, 12.7, 0.0, 0.0], [7206, 12.7, 0.0, 0.0], [288, 12.6, 0.0, 0.0], [3414, 12.6, 9.9, 0.0], [6556, 12.6, 0.0, 0.0], [4988, 12.4, 0.0, 0.0], [5577, 12.4, 0.0, 0.0], [4453, 12.3, 0.0, 0.0], [5213, 12.3, 0.0, 0.0], [5314, 12.2, 0.0, 0.0], [5709, 12.2, 22.0, 0.0], [7250, 12.2, 6.0, 0.0], [858, 12.2, 22.0, 0.0], [4998, 12.1, 0.0, 0.0], [6573, 12.1, 0.0, 0.0], [6344, 12.0, 17.0, 0.0], [6075, 11.9, 10.2, 0.0], [3096, 11.7, 0.0, 0.0], [6150, 11.5, 0.0, 0.0], [3322, 11.4, 0.0, 0.0], [5260, 11.4, 0.0, 0.0], [6065, 11.3, 0.0, 0.0], [5533, 11.2, 0.0, 0.0], [7056, 11.2, 0.0, 0.0], [7143, 11.2, 0.0, 0.0], [7244, 11.2, 0.0, 0.0], [5282, 11.1, 0.0, 0.0], [6550, 11.0, 0.0, 0.0], [5090, 10.9, 7.0, 0.0], [6112, 10.9, 0.0, 0.0], [5774, 10.8, 0.0, 0.0], [6190, 10.8, 0.0, 0.0], [2612, 10.7, 0.0, 0.0], [5182, 10.7, 0.0, 0.0], [5697, 10.5, 0.0, 0.0], [3619, 10.4, 0.0, 0.0], [5247, 10.4, 0.0, 0.0], [2224, 10.3, 0.0, 0.0], [2405, 10.3, 8.0, 0.0], [6033, 10.3, 0.0, 0.0], [1528, 10.2, 0.0, 0.0], [280, 10.2, 0.0, 0.0], [5702, 10.2, 0.0, 0.0], [5708, 10.2, 0.0, 0.0], [6569, 10.2, 10.0, 0.0], [7209, 10.2, 0.0, 0.0], [3875, 10.1, 27.0, 0.0], [6582, 10.1, 16.0, 0.0], [4835, 10.0, 0.0, 0.0], [5056, 10.0, 0.0, 0.0], [2591, 9.8, 0.0, 0.0], [7109, 9.7, 0.0, 0.0], [4811, 9.6, 5.0, 0.0], [4482, 9.5, 0.0, 0.0], [3658, 9.4, 0.0, 0.0], [4815, 9.4, 0.0, 0.0], [5486, 9.4, 0.0, 0.0], [216, 9.3, 0.0, 0.0], [6591, 9.3, 0.0, 0.0], [1254, 9.2, 0.0, 0.0], [5688, 9.2, 0.0, 0.0], [6073, 9.2, 0.0, 0.0], [6122, 9.1, 0.0, 0.0], [1502, 9.0, 0.0, 0.0], [5173, 9.0, 5.0, 0.0], [6093, 9.0, 0.0, 0.0], [5982, 8.8, 0.0, 0.0], [1940, 8.7, 0.0, 0.0], [5162, 8.7, 7.0, 0.0], [5235, 8.7, 0.0, 0.0], [7222, 8.7, 0.0, 0.0], [2246, 8.6, 0.0, 0.0], [5086, 8.6, 13.0, 0.0], [6019, 8.5, 0.0, 0.0], [6557, 8.5, 0.0, 0.0], [4851, 8.4, 0.0, 0.0], [5248, 8.4, 0.0, 0.0], [5183, 8.3, 0.0, 0.0], [6581, 8.3, 0.0, 0.0], [4838, 8.2, 0.0, 0.0], [5161, 8.2, 0.0, 0.0], [6071, 8.2, 0.0, 0.0], [6094, 8.2, 0.0, 0.0], [6100, 8.2, 0.0, 0.0], [4758, 8.1, 0.0, 0.0], [6566, 8.1, 0.0, 0.0], [453, 7.7, 0.0, 0.0], [5066, 7.7, 0.0, 0.0], [6616, 7.7, 0.0, 0.0], [6568, 7.6, 0.0, 0.0], [6588, 7.6, 0.0, 0.0], [6592, 7.6, 0.0, 0.0], [4382, 7.5, 0.0, 0.0], [5756, 7.5, 0.0, 0.0], [6005, 7.5, 0.0, 0.0], [4854, 7.4, 0.0, 0.0], [6570, 7.4, 0.0, 0.0], [5538, 7.3, 0.0, 0.0], [5641, 7.3, 0.0, 0.0], [6079, 7.3, 0.0, 0.0], [313, 7.2, 0.0, 0.0], [4715, 7.2, 0.0, 0.0], [4768, 7.2, 0.0, 0.0], [5610, 7.2, 0.0, 0.0], [6120, 7.2, 0.0, 0.0], [6635, 7.2, 0.0, 0.0], [6638, 7.2, 0.0, 0.0], [7197, 7.2, 0.0, 0.0], [240, 7.1, 0.0, 0.0], [5217, 7.1, 0.0, 0.0], [5714, 7.1, 0.0, 0.0], [6081, 7.1, 0.0, 0.0], [6092, 7.1, 0.0, 0.0], [468, 7.0, 0.0, 0.0], [5470, 7.0, 0.0, 0.0], [6096, 7.0, 0.0, 0.0], [6545, 7.0, 0.0, 0.0], [4840, 6.9, 0.0, 0.0], [6138, 6.9, 0.0, 0.0], [6561, 6.9, 0.0, 0.0], [6567, 6.9, 0.0, 0.0], [5532, 6.7, 0.0, 0.0], [5619, 6.7, 0.0, 0.0], [6029, 6.7, 0.0, 0.0], [6552, 6.7, 0.0, 0.0], [3572, 6.6, 12.0, 0.0], [5478, 6.6, 0.0, 0.0], [5194, 6.5, 0.0, 0.0], [5660, 6.5, 0.0, 0.0], [5685, 6.5, 0.0, 0.0], [3537, 6.4, 0.0, 0.0], [4380, 6.4, 0.0, 0.0], [6528, 6.4, 0.0, 0.0], [5110, 6.3, 0.0, 0.0], [5504, 6.3, 0.0, 0.0], [6600, 6.3, 0.0, 0.0], [4337, 6.2, 0.0, 0.0], [5622, 6.2, 0.0, 0.0], [5963, 6.2, 0.0, 0.0], [7174, 6.2, 0.0, 0.0], [835, 6.2, 0.0, 0.0], [2676, 6.1, 0.0, 0.0], [5706, 6.0, 0.0, 0.0], [6532, 6.0, 0.0, 0.0], [5527, 5.9, 0.0, 0.0], [6137, 5.8, 0.0, 0.0], [6428, 5.8, 0.0, 0.0], [6091, 5.7, 0.0, 0.0], [6533, 5.7, 0.0, 0.0], [6611, 5.7, 0.0, 0.0], [6914, 5.7, 0.0, 0.0], [5853, 5.6, 0.0, 0.0], [6580, 5.6, 0.0, 0.0], [6102, 5.5, 0.0, 0.0], [5251, 5.3, 0.0, 0.0], [5695, 5.3, 0.0, 0.0], [5710, 5.3, 0.0, 0.0], [6066, 5.3, 8.0, 0.0], [1896, 5.2, 0.0, 0.0], [5072, 5.2, 0.0, 0.0], [5225, 5.2, 0.0, 0.0], [5562, 5.2, 0.0, 0.0], [5926, 5.2, 9.0, 0.0], [6610, 5.1, 0.0, 0.0], [1076, 5.0, 6.0, 0.0], [1677, 5.0, 0.0, 0.0], [3458, 5.0, 0.0, 0.0], [6594, 5.0, 0.0, 0.0], [6599, 5.0, 0.0, 0.0], [6345, 4.9, 0.0, 0.0], [6583, 4.7, 0.0, 0.0], [6954, 4.7, 0.0, 0.0], [3568, 4.6, 0.0, 0.0], [5255, 4.6, 0.0, 0.0], [6078, 4.6, 0.0, 0.0], [6642, 4.5, 0.0, 0.0], [4408, 4.4, 0.0, 0.0], [5661, 4.4, 0.0, 0.0], [5704, 4.4, 0.0, 0.0], [6089, 4.4, 0.0, 0.0], [1, 4.3, 0.0, 0.0], [5197, 4.3, 0.0, 0.0], [6116, 4.3, 0.0, 0.0], [4398, 4.2, 0.0, 0.0], [6152, 4.2, 0.0, 0.0], [6597, 4.2, 0.0, 0.0], [7084, 4.2, 0.0, 0.0], [7188, 4.2, 0.0, 0.0], [5257, 4.1, 0.0, 0.0], [5989, 4.1, 0.0, 0.0], [3234, 4.0, 11.0, 0.0], [5214, 4.0, 0.0, 0.0], [2048, 3.9, 0.0, 0.0], [6595, 3.9, 0.0, 0.0], [5065, 3.7, 0.0, 0.0], [6057, 3.7, 0.0, 0.0], [6631, 3.7, 0.0, 0.0], [3632, 3.6, 0.0, 0.0], [322, 3.5, 0.0, 0.0], [4568, 3.4, 0.0, 0.0], [6627, 3.3, 0.0, 0.0], [5559, 3.1, 0.0, 0.0], [5239, 3.0, 0.0, 0.0], [3617, 2.9, 0.0, 0.0], [6053, 2.9, 0.0, 0.0], [6074, 2.8, 0.0, 0.0], [7289, 2.7, 0.0, 0.0], [6097, 2.5, 0.0, 0.0], [4390, 2.2, 0.0, 0.0], [6589, 2.2, 0.0, 0.0], [5473, 2.1, 0.0, 0.0], [5231, 2.0, 0.0, 0.0], [5227, 1.9, 0.0, 0.0], [6877, 1.7, 0.0, 0.0], [6958, 1.7, 0.0, 0.0], [7175, 1.7, 0.0, 0.0], [6101, 1.5, 0.0, 0.0], [7160, 1.2, 12.0, 0.0], [7166, 1.2, 0.0, 0.0], [2673, 1.0, 0.0, 0.0], [5662, 1.0, 0.0, 0.0], [6128, 1.0, 0.0, 0.0], [6136, 1.0, 0.0, 0.0], [3773, 0.9, 0.0, 0.0], [4827, 0.7, 0.0, 0.0], [5316, 0.4, 0.0, 0.0], [5215, 0.3, 0.0, 0.0], [6425, 0.2, 0.0, 0.0], [3302, 0.1, 0.0, 0.0], [5156, 0.1, 0.0, 0.0], [6114, 0.1, 0.0, 0.0], [6013, -0.3, 0.0, 0.0], [5203, -0.4, 0.0, 0.0], [6649, -0.5, 0.0, 0.0], [5448, -0.8, 24.0, 0.0], [7254, -0.8, 0.0, 0.0], [7219, -1.3, 0.0, 0.0], [7195, -1.8, 0.0, 0.0], [7202, -1.8, 0.0, 0.0], [7224, -1.8, 0.0, 0.0], [7208, -2.3, 0.0, 0.0], [7150, -2.8, 0.0, 0.0], [7155, -2.8, 0.0, 0.0], [7145, -3.3, 0.0, 0.0], [7191, -3.3, 0.0, 0.0], [7147, -4.3, 0.0, 0.0], [7220, -4.3, 0.0, 0.0], [7232, -4.3, 0.0, 0.0], [6963, -4.8, 0.0, 0.0], [7192, -4.8, 0.0, 0.0], [7223, -4.8, 0.0, 0.0], [7247, -4.8, 0.0, 0.0], ['Rookie', -5.1, 0, 0]]\n"
     ]
    }
   ],
   "source": [
    "#Need to think some more about rookie score, not sure it's 100% right. Also need to think about if need to consider the fact that we only get points for the first 2 events a team plays at\n",
    "team_scores=[]\n",
    "rookies=0\n",
    "update_progress(0)\n",
    "for t in teams:\n",
    "    team_no=int(re.findall(r'\\d+',t)[0])\n",
    "    if(team_no<7400):\n",
    "        metrics=[[[],[],[]],[[],[],[]],[[],[],[]]]\n",
    "        for y in ['2018','2017','2016']:#'2018','2017',\n",
    "            event_keys=requests.get('https://www.thebluealliance.com/api/v3/team/'+t+'/events/'+y+'/keys',params=login)\n",
    "            r=requests.get('https://www.thebluealliance.com/api/v3/team/'+t+'/events/'+y+'/statuses',params=login)\n",
    "            keys=event_keys.json()\n",
    "            data=r.json()\n",
    "            for k in keys:\n",
    "                if(data[k]!=None):\n",
    "                    if(data[k]['qual']!=None):\n",
    "                        event=requests.get('https://www.thebluealliance.com/api/v3/event/'+k+'/simple',params=login)\n",
    "                        awards=requests.get('https://www.thebluealliance.com/api/v3/team/'+t+'/event/'+k+'/awards',params=login).json()\n",
    "                        if((event.json()['event_type']==1)or(event.json()['event_type']==0)):#regionals and districts\n",
    "                            score=qual_points(data[k]['qual']['ranking']['rank'],data[k]['qual']['num_teams'])\n",
    "                            if(data[k]['alliance']!=None):\n",
    "                                score+=pick_points(data[k]['alliance']['number'],data[k]['alliance']['pick'])+5*data[k]['playoff']['record']['wins']\n",
    "                            for i in range(len(awards)):\n",
    "                                if(awards[i]['award_type']==0):#chairman's\n",
    "                                    score+=60\n",
    "                                if(awards[i]['award_type']==9):#engineering inspiration\n",
    "                                    score+=45\n",
    "                                if any([awards[i]['award_type'] in [16,17,20,21,29,71]]):#robot awards\n",
    "                                    score+=20\n",
    "                                if any([awards[i]['award_type'] in [22,11,27,13,18,30]]):#others\n",
    "                                    score+=5\n",
    "                            metrics[2018-int(y)][0].append(score)\n",
    "                        elif(event.json()['event_type']==3):#champs divisions\n",
    "                            score=qual_points(data[k]['qual']['ranking']['rank'],data[k]['qual']['num_teams'])\n",
    "                            if(data[k]['alliance']!=None):\n",
    "                                score+=pick_points(data[k]['alliance']['number'],data[k]['alliance']['pick'])+5*data[k]['playoff']['record']['wins']\n",
    "                            for i in range(len(awards)):\n",
    "                                if(awards[i]['award_type']==0):#chairman's\n",
    "                                    score+=110\n",
    "                                if(awards[i]['award_type']==69):#chairman's finalist\n",
    "                                    score+=90\n",
    "                                if(awards[i]['award_type']==9):#engineering inspiration\n",
    "                                    score+=45\n",
    "                                if any([awards[i]['award_type'] in [16,17,20,21,29,71]]):#robot awards\n",
    "                                    score+=30\n",
    "                                if any([awards[i]['award_type'] in [22,11,27,13,18,30]]):#others\n",
    "                                    score+=10\n",
    "                            metrics[2018-int(y)][1].append(score)\n",
    "                    elif(data[k]['playoff']!=None):\n",
    "                        event=requests.get('https://www.thebluealliance.com/api/v3/event/'+k+'/simple',params=login)\n",
    "                        awards=requests.get('https://www.thebluealliance.com/api/v3/team/'+t+'/event/'+k+'/awards',params=login).json()\n",
    "                        if(event.json()['event_type']==4):#einstein\n",
    "                            score=5+5*data[k]['playoff']['record']['wins']\n",
    "                            for i in range(len(awards)):\n",
    "                                if(awards[i]['award_type']==0):#chairman's\n",
    "                                    score+=110\n",
    "                                if(awards[i]['award_type']==69):#chairman's finalist\n",
    "                                    score+=90\n",
    "                                if(awards[i]['award_type']==9):#engineering inspiration\n",
    "                                    score+=45\n",
    "                                if any([awards[i]['award_type'] in [16,17,20,21,29,71]]):#robot awards\n",
    "                                    score+=30\n",
    "                                if any([awards[i]['award_type'] in [22,11,27,13,18,30]]):#others\n",
    "                                    score+=10\n",
    "                            metrics[2018-int(y)][2].append(score)\n",
    "        mean=np.zeros(3)\n",
    "        std=np.zeros(3)\n",
    "        for i in range(3):\n",
    "            if(len(metrics[0][i])+len(metrics[1][i])+len(metrics[2][i])==0):\n",
    "                mean[i]=0\n",
    "            else:\n",
    "                mean[i]=(sum(metrics[0][i])+sum(metrics[1][i])/2+sum(metrics[2][i])/3)/(len(metrics[0][i])+len(metrics[1][i])/2+len(metrics[2][i])/3)\n",
    "            if(len(metrics[0][i]+metrics[1][i]+metrics[2][i])==0):\n",
    "                std[i]=0\n",
    "            elif((i==0)&(len(metrics[0][i]+metrics[1][i]+metrics[2][i])<=3)):\n",
    "                std[i]=13.3\n",
    "            else:\n",
    "                std[i]=np.std(metrics[0][i]+metrics[1][i]+metrics[2][i])\n",
    "        team_scores.append([team_no,round(mean[0]-std[0],1),round(mean[1]-std[1],1),round(mean[2]-std[2],1)])\n",
    "    else:\n",
    "        rookies+=1\n",
    "    update_progress((teams.index(t)+1)/len(teams))\n",
    "if(rookies>0):\n",
    "    num_events=len(requests.get('https://www.thebluealliance.com/api/v3//district/'+event_name+'/events/simple',params=login).json())\n",
    "    team_scores.append(['Rookie',round((40*num_events/rookies+13+236*num_events/len(teams))-19.2,1),0,0]) #40pts from rookie awards,13 avg ranking points,236 picking points\n",
    "team_scores.sort(key=lambda score: score[1], reverse=True)\n",
    "if(rookies>0): ind=team_scores.index(['Rookie',round((40*num_events/rookies+13+236*num_events/len(teams))-19.2,1),0,0])+1\n",
    "else: ind=int(np.floor(len(teams)/2))\n",
    "\n",
    "filename=event_name+'.csv'\n",
    "with open(filename,'a',newline='') as csv_file:\n",
    "    writer=csv.writer(csv_file)\n",
    "    for i in range(len(team_scores)):\n",
    "        writer.writerow(team_scores[i])\n",
    "        \n",
    "clear_output()\n",
    "print(str(ind+rookies)+': '+str(rookies)+' Rookies')\n",
    "print(team_scores[0:ind])#"
   ]
  },
  {
   "cell_type": "code",
   "execution_count": 17,
   "metadata": {},
   "outputs": [
    {
     "name": "stdout",
     "output_type": "stream",
     "text": [
      "frc2959\n"
     ]
    }
   ],
   "source": [
    "print(t)"
   ]
  },
  {
   "cell_type": "code",
   "execution_count": 19,
   "metadata": {},
   "outputs": [
    {
     "data": {
      "text/plain": [
       "<matplotlib.collections.PathCollection at 0x52d6898>"
      ]
     },
     "execution_count": 19,
     "metadata": {},
     "output_type": "execute_result"
    },
    {
     "data": {
      "image/png": "[encoded data removed]",
      "text/plain": [
       "<Figure size 72x432 with 1 Axes>"
      ]
     },
     "metadata": {},
     "output_type": "display_data"
    }
   ],
   "source": [
    "x=[0] *len(team_scores)\n",
    "y=[x[1] for x in team_scores]\n",
    "\n",
    "#not accurate average score for all events, need to try something like:\n",
    "tot_score=(468+236+85+60+45+25+15+20*5+10+9*5)*num_events #ranking points for 36team event,pick points,elim win points,chairmans,EI,RAS,RI,robot,WFFA,others\n",
    "\n",
    "#tot_score=236+85+60+45+25+15+20*5+10+9*5#pick points,elim win points,chairmans,EI,RAS,RI,robot,WFFA,others\n",
    "#for i in range(1,len(teams)+1):\n",
    "    #tot_score+=qual_points(i,len(teams))\n",
    "\n",
    "fig1=plt.figure(figsize=[1,6])\n",
    "ax1=plt.axes()\n",
    "ax1.axes.get_xaxis().set_visible(False)\n",
    "plt.axhline(y=tot_score/len(teams),c='black',linestyle='--')\n",
    "plt.scatter(x,y)\n",
    "plt.scatter(0,y[ind],c='red')"
   ]
  },
  {
   "cell_type": "code",
   "execution_count": 95,
   "metadata": {},
   "outputs": [
    {
     "name": "stdout",
     "output_type": "stream",
     "text": [
      "26.60282574568289 18.530068691300883\n"
     ]
    }
   ],
   "source": [
    "score_list=[]\n",
    "score=0\n",
    "update_progress(0)\n",
    "tot_teams=len(range(1,7332))\n",
    "for t in range(1,7332):\n",
    "    t='frc'+str(t)\n",
    "    temp_list=[]\n",
    "    years=['2016','2017','2018']\n",
    "    keys=[]\n",
    "    data=[]\n",
    "    for y in years:\n",
    "        keys.append(requests.get('https://www.thebluealliance.com/api/v3/team/'+t+'/events/'+y+'/keys',params=login).json())\n",
    "        d=requests.get('https://www.thebluealliance.com/api/v3/team/'+t+'/events/'+y+'/statuses',params=login).json()\n",
    "        if('Errors' not in data):\n",
    "            data.append(d)\n",
    "    off_keys=[]\n",
    "    for k in keys:\n",
    "        event=requests.get('https://www.thebluealliance.com/api/v3/event/'+k+'/simple',params=login).json()\n",
    "        if((event['event_type']==1)or(event['event_type']==0)):\n",
    "            off_keys.append(k)\n",
    "    if(len(off_keys)<=3):\n",
    "        for k in off_keys:\n",
    "            if(data[k]!=None):\n",
    "                if(data[k]['qual']!=None):\n",
    "                    awards=requests.get('https://www.thebluealliance.com/api/v3/team/'+t+'/event/'+k+'/awards',params=login).json()\n",
    "                    score=qual_points(data[k]['qual']['ranking']['rank'],data[k]['qual']['num_teams'])\n",
    "                    if(data[k]['alliance']!=None):\n",
    "                        score+=pick_points(data[k]['alliance']['number'],data[k]['alliance']['pick'])+5*data[k]['playoff']['record']['wins']\n",
    "                    for i in range(len(awards)):\n",
    "                        if(awards[i]['award_type']==0):#chairman's\n",
    "                            score+=60\n",
    "                        if(awards[i]['award_type']==9):#engineering inspiration\n",
    "                            score+=45\n",
    "                        if(awards[i]['award_type']==10):#Rookie All Star\n",
    "                            score+=25\n",
    "                        if(awards[i]['award_type']==15):#Rookie Inspiration\n",
    "                            score+=15\n",
    "                        if any([awards[i]['award_type'] in [16,17,20,21,29,71]]):#robot awards\n",
    "                            score+=20\n",
    "                        if any([awards[i]['award_type'] in [22,11,27,13,14,18,30]]):#others: 14 is highest rookie seed\n",
    "                            score+=5\n",
    "                    temp_list.append(score)\n",
    "    if(len(temp_list)<4):\n",
    "        for i in temp_list:\n",
    "            score_list.append(i)\n",
    "mean=np.mean(score_list)\n",
    "std=np.std(score_list)\n",
    "\n",
    "print(mean,std)"
   ]
  }
 ],
 "metadata": {
  "kernelspec": {
   "display_name": "Python 3",
   "language": "python",
   "name": "python3"
  },
  "language_info": {
   "codemirror_mode": {
    "name": "ipython",
    "version": 3
   },
   "file_extension": ".py",
   "mimetype": "text/x-python",
   "name": "python",
   "nbconvert_exporter": "python",
   "pygments_lexer": "ipython3",
   "version": "3.6.5"
  }
 },
 "nbformat": 4,
 "nbformat_minor": 2
}
