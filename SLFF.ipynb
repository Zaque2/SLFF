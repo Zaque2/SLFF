{
 "cells": [
  {
   "cell_type": "code",
   "execution_count": 1,
   "metadata": {},
   "outputs": [],
   "source": [
    "import sys\n",
    "import requests\n",
    "import re\n",
    "import numpy as np\n",
    "from scipy.special import erfinv\n",
    "import matplotlib.pyplot as plt\n",
    "import csv\n",
    "from IPython.display import clear_output\n",
    "\n",
    "key='ozyravmBN53mCh2imk7RmocE68QfSfjjuERYiFsqtB2j3mRog4YOoNfk4nq7t7UC'\n",
    "login={'X-TBA-Auth-Key':key}\n",
    "\n",
    "def qual_points(R,N,a=1.07):\n",
    "    return np.ceil(erfinv((N-2*R+2)/(a*N))*10/erfinv(1/a)+12)\n",
    "def pick_points(alliance,pick):\n",
    "    if(alliance==None): return 0\n",
    "    elif(pick==2): return alliance\n",
    "    else: return 17-alliance\n",
    "def score(rank,compnum,awards,c_rank,c_awards,chair,ei):\n",
    "    return 22*(1-rank)*compnum+20*awards+22*(1-c_rank)+30*c_awards+60*chair+45*ei\n",
    "def find(team,team_list):\n",
    "    team='frc'+str(team)\n",
    "    for i in range(len(team_list)):\n",
    "        if (team_list[i][0]==team): return i\n",
    "    return None\n",
    "def update_progress(progress):\n",
    "    barLength = 50 # Modify this to change the length of the progress bar\n",
    "    status = \"\"\n",
    "    if isinstance(progress, int):\n",
    "        progress = float(progress)\n",
    "    if not isinstance(progress, float):\n",
    "        progress = 0\n",
    "        status = \"error: progress var must be float\\r\\n\"\n",
    "    if progress < 0:\n",
    "        progress = 0\n",
    "        status = \"Halt...\\r\\n\"\n",
    "    if progress >= 1:\n",
    "        progress = 1\n",
    "        status = \"Done...\\r\\n\"\n",
    "    block = int(round(barLength*progress))\n",
    "    text = \"\\rPercent: [{0}] {1}% {2}\".format( \"#\"*block + \"-\"*(barLength-block), progress*100, status)\n",
    "    sys.stdout.write(text)\n",
    "    sys.stdout.flush()"
   ]
  },
  {
   "cell_type": "markdown",
   "metadata": {},
   "source": [
    "# Regionals"
   ]
  },
  {
   "cell_type": "code",
   "execution_count": 5,
   "metadata": {
    "scrolled": true
   },
   "outputs": [],
   "source": [
    "event_name='2019cada'\n",
    "teams_list=requests.get('https://www.thebluealliance.com/api/v3/event/'+event_name+'/teams/keys',params=login)\n",
    "teams=teams_list.json()"
   ]
  },
  {
   "cell_type": "code",
   "execution_count": 6,
   "metadata": {},
   "outputs": [
    {
     "name": "stdout",
     "output_type": "stream",
     "text": [
      "56: 5 Rookies\n",
      "[[1678, 77.9, 69.2, 19.0], [1323, 57.2, 64.5, 15.0], [973, 53.9, 29.9, 30.0], [1056, 36.8, nan, nan], [701, 35.7, 17.8, nan], [2141, 29.8, nan, nan], [6918, 27.0, nan, nan], [3250, 26.8, 29.0, nan], [3880, 26.7, 9.2, nan], [114, 26.5, 12.0, nan], [6474, 24.5, 9.2, nan], [1072, 21.8, 39.0, 15.0], [3970, 21.3, 16.2, nan], [4904, 21.2, 26.0, nan], [6883, 20.0, nan, nan], [4135, 19.7, 8.7, nan], [5507, 17.2, nan, nan], [5496, 17.0, 13.7, nan], [3482, 16.0, nan, nan], [2839, 15.3, 11.0, nan], [5940, 14.4, 19.0, nan], [7229, 14.0, nan, nan], [2551, 12.9, nan, nan], [199, 12.5, 11.0, nan], [5458, 12.4, 31.3, nan], [4698, 11.2, 11.0, nan], [2367, 10.8, 30.0, nan], [6644, 10.8, nan, nan], [5480, 10.5, nan, nan], [7137, 10.0, 10.0, nan], [3598, 9.8, 11.0, nan], [2085, 9.7, nan, nan], [6657, 9.2, nan, nan], [5419, 9.0, nan, nan], [6174, 8.3, nan, nan], [3189, 8.1, 3.0, nan], [6238, 8.0, nan, nan], [6926, 8.0, nan, nan], [6305, 7.1, 7.0, nan], [2204, 7.0, nan, nan], [6981, 7.0, nan, nan], [3859, 6.8, nan, nan], [3013, 6.7, nan, nan], [1458, 6.6, nan, nan], [4669, 6.4, nan, nan], [5875, 6.4, nan, nan], [6662, 6.3, nan, nan], [5250, 6.0, nan, nan], [6358, 6.0, nan, nan], [6612, 5.5, nan, nan], ['Rookie', 5.5, 0, 0]]\n"
     ]
    }
   ],
   "source": [
    "team_scores=[]\n",
    "rookies=0\n",
    "update_progress(0)\n",
    "for t in teams:\n",
    "    team_no=int(re.findall(r'\\d+',t)[0])\n",
    "    if(team_no<7400):\n",
    "        metrics=[[[],[],[]],[[],[],[]],[[],[],[]]]\n",
    "        for y in ['2018','2017','2016']:#'2018','2017',\n",
    "            event_keys=requests.get('https://www.thebluealliance.com/api/v3/team/'+t+'/events/'+y+'/keys',params=login)\n",
    "            r=requests.get('https://www.thebluealliance.com/api/v3/team/'+t+'/events/'+y+'/statuses',params=login)\n",
    "            keys=event_keys.json()\n",
    "            data=r.json()\n",
    "            for k in keys:\n",
    "                if(data[k]!=None):\n",
    "                    if(data[k]['qual']!=None):\n",
    "                        event=requests.get('https://www.thebluealliance.com/api/v3/event/'+k+'/simple',params=login)\n",
    "                        awards=requests.get('https://www.thebluealliance.com/api/v3/team/'+t+'/event/'+k+'/awards',params=login).json()\n",
    "                        if((event.json()['event_type']==1)or(event.json()['event_type']==0)):#regionals and districts\n",
    "                            score=qual_points(data[k]['qual']['ranking']['rank'],data[k]['qual']['num_teams'])\n",
    "                            if(data[k]['alliance']!=None):\n",
    "                                score+=pick_points(data[k]['alliance']['number'],data[k]['alliance']['pick'])+5*data[k]['playoff']['record']['wins']\n",
    "                            for i in range(len(awards)):\n",
    "                                if(awards[i]['award_type']==0):#chairman's\n",
    "                                    score+=60\n",
    "                                if(awards[i]['award_type']==9):#engineering inspiration\n",
    "                                    score+=45\n",
    "                                if any([awards[i]['award_type'] in [16,17,20,21,29,71]]):#robot awards\n",
    "                                    score+=20\n",
    "                                if any([awards[i]['award_type'] in [22,11,27,13,18,30]]):#others\n",
    "                                    score+=5\n",
    "                            metrics[2018-int(y)][0].append(score)\n",
    "                        elif(event.json()['event_type']==3):#champs divisions\n",
    "                            score=qual_points(data[k]['qual']['ranking']['rank'],data[k]['qual']['num_teams'])\n",
    "                            if(data[k]['alliance']!=None):\n",
    "                                score+=pick_points(data[k]['alliance']['number'],data[k]['alliance']['pick'])+5*data[k]['playoff']['record']['wins']\n",
    "                            for i in range(len(awards)):\n",
    "                                if(awards[i]['award_type']==0):#chairman's\n",
    "                                    score+=110\n",
    "                                if(awards[i]['award_type']==69):#chairman's finalist\n",
    "                                    score+=90\n",
    "                                if(awards[i]['award_type']==9):#engineering inspiration\n",
    "                                    score+=45\n",
    "                                if any([awards[i]['award_type'] in [16,17,20,21,29,71]]):#robot awards\n",
    "                                    score+=30\n",
    "                                if any([awards[i]['award_type'] in [22,11,27,13,18,30]]):#others\n",
    "                                    score+=10\n",
    "                            metrics[2018-int(y)][1].append(score)\n",
    "                    elif(data[k]['playoff']!=None):\n",
    "                        event=requests.get('https://www.thebluealliance.com/api/v3/event/'+k+'/simple',params=login)\n",
    "                        awards=requests.get('https://www.thebluealliance.com/api/v3/team/'+t+'/event/'+k+'/awards',params=login).json()\n",
    "                        if(event.json()['event_type']==4):#einstein\n",
    "                            score=5+5*data[k]['playoff']['record']['wins']\n",
    "                            for i in range(len(awards)):\n",
    "                                if(awards[i]['award_type']==0):#chairman's\n",
    "                                    score+=110\n",
    "                                if(awards[i]['award_type']==69):#chairman's finalist\n",
    "                                    score+=90\n",
    "                                if(awards[i]['award_type']==9):#engineering inspiration\n",
    "                                    score+=45\n",
    "                                if any([awards[i]['award_type'] in [16,17,20,21,29,71]]):#robot awards\n",
    "                                    score+=30\n",
    "                                if any([awards[i]['award_type'] in [22,11,27,13,18,30]]):#others\n",
    "                                    score+=10\n",
    "                            metrics[2018-int(y)][2].append(score)\n",
    "        mean=np.zeros(3)\n",
    "        std=np.zeros(3)\n",
    "        for i in range(3):\n",
    "            if(len(metrics[0][i])+len(metrics[1][i])+len(metrics[2][i])==0):\n",
    "                mean[i]=0\n",
    "            else:\n",
    "                mean[i]=(sum(metrics[0][i])+sum(metrics[1][i])/2+sum(metrics[2][i])/3)/(len(metrics[0][i])+len(metrics[1][i])/2+len(metrics[2][i])/3)\n",
    "            if(metrics[0][i]+metrics[1][i]+metrics[2][i]==None):\n",
    "                std[i]=0\n",
    "            else:\n",
    "                std[i]=np.std(metrics[0][i]+metrics[1][i]+metrics[2][i])\n",
    "        team_scores.append([team_no,round(mean[0]-std[0],1),round(mean[1]-std[1],1),round(mean[2]-std[2],1)])\n",
    "    else:\n",
    "        rookies+=1\n",
    "    update_progress((teams.index(t)+1)/len(teams))\n",
    "if(rookies>0): team_scores.append(['Rookie',round((40/rookies+13+236/len(teams))-19.2,1),0,0])#40pts from rookie awards,13 avg ranking points,236 picking points\n",
    "team_scores.sort(key=lambda score: score[1], reverse=True)\n",
    "if(rookies>0): ind=team_scores.index(['Rookie',round((40/rookies+13+236/len(teams))-19.2,1),0,0])+1\n",
    "else: ind=int(np.floor(len(teams)/2))\n",
    "\n",
    "filename=event_name+'.csv'\n",
    "with open(filename,'a',newline='') as csv_file:\n",
    "    writer=csv.writer(csv_file)\n",
    "    for i in range(len(team_scores)):\n",
    "        writer.writerow(team_scores[i])\n",
    "        \n",
    "clear_output()\n",
    "print(str(ind+rookies)+': '+str(rookies)+' Rookies')\n",
    "print(team_scores[0:ind])#"
   ]
  },
  {
   "cell_type": "code",
   "execution_count": 7,
   "metadata": {},
   "outputs": [
    {
     "data": {
      "text/plain": [
       "<matplotlib.collections.PathCollection at 0x8dcc080>"
      ]
     },
     "execution_count": 7,
     "metadata": {},
     "output_type": "execute_result"
    },
    {
     "data": {
      "image/png": "[encoded data removed]",
      "text/plain": [
       "<Figure size 72x432 with 1 Axes>"
      ]
     },
     "metadata": {},
     "output_type": "display_data"
    }
   ],
   "source": [
    "x=[0] *len(team_scores)\n",
    "y=[x[1] for x in team_scores]\n",
    "\n",
    "tot_score=236+85+60+45+25+15+20*5+10+9*5\n",
    "for i in range(1,len(teams)+1):\n",
    "    tot_score+=qual_points(i,len(teams))\n",
    "\n",
    "fig1=plt.figure(figsize=[1,6])\n",
    "ax1=plt.axes()\n",
    "ax1.axes.get_xaxis().set_visible(False)\n",
    "plt.axhline(y=tot_score/len(teams),c='black',linestyle='--')\n",
    "plt.scatter(x,y)\n",
    "plt.scatter(0,y[ind],c='red')"
   ]
  },
  {
   "cell_type": "markdown",
   "metadata": {},
   "source": [
    "# Districts"
   ]
  },
  {
   "cell_type": "code",
   "execution_count": 9,
   "metadata": {},
   "outputs": [],
   "source": [
    "event_name='2019pch'\n",
    "teams_list=requests.get('https://www.thebluealliance.com/api/v3/district/'+event_name+'/teams/keys',params=login)\n",
    "teams=teams_list.json()"
   ]
  },
  {
   "cell_type": "code",
   "execution_count": 10,
   "metadata": {},
   "outputs": [
    {
     "name": "stdout",
     "output_type": "stream",
     "text": [
      "84: 10 Rookies\n",
      "[[2974, 64.3, 25.0, nan], [4188, 63.0, 15.8, 25.0], [1746, 61.6, 27.1, nan], [4910, 60.1, 9.9, 20.0], [6705, 57.5, 11.5, nan], [1648, 54.2, 13.3, nan], [4026, 46.2, 11.0, nan], [1311, 38.8, 8.0, nan], [4941, 37.1, 14.8, nan], [2415, 35.6, 20.1, 15.0], [832, 35.3, 5.0, nan], [4468, 33.6, 14.0, nan], [7104, 32.0, nan, nan], [4189, 29.0, 13.0, nan], [6340, 28.7, 30.0, nan], [6829, 27.9, nan, nan], [1102, 27.6, 25.0, nan], [3581, 27.5, nan, nan], [3998, 25.5, nan, nan], [1771, 24.7, nan, nan], [1683, 24.5, nan, nan], [7315, 24.0, nan, nan], [5332, 22.0, 8.0, nan], [6919, 22.0, 12.0, nan], [3635, 21.7, 13.0, nan], [6177, 21.5, nan, nan], [1002, 21.3, 9.8, nan], [6471, 20.5, nan, nan], [5109, 19.5, 12.0, nan], [5482, 19.4, nan, nan], [4112, 17.9, 56.0, 15.0], [3815, 17.1, nan, nan], [6341, 17.1, nan, nan], [6023, 16.2, 12.0, nan], [5900, 15.2, 6.0, nan], [5293, 14.4, 16.0, nan], [4516, 13.9, 38.0, nan], [1261, 13.7, 10.8, nan], [5608, 13.7, nan, nan], [6325, 13.6, 12.0, nan], [5536, 12.5, nan, nan], [4509, 12.2, nan, nan], [3329, 12.0, nan, nan], [6925, 12.0, nan, nan], [6712, 11.8, nan, nan], [4193, 11.3, nan, nan], [1414, 11.1, 26.2, nan], [1795, 11.1, nan, nan], [6905, 11.0, nan, nan], [5632, 10.5, nan, nan], [4459, 10.3, nan, nan], [5848, 9.7, nan, nan], [4240, 9.4, nan, nan], [6715, 9.2, nan, nan], [6944, 9.0, nan, nan], [7076, 9.0, nan, nan], [4749, 8.6, nan, nan], [4080, 8.5, 33.0, nan], [3344, 8.1, nan, nan], [5074, 7.6, 31.0, nan], [5840, 7.4, nan, nan], [5219, 7.0, nan, nan], [6887, 7.0, 11.0, nan], [7060, 7.0, nan, nan], [5734, 6.5, nan, nan], [6716, 6.4, nan, nan], [6910, 6.0, nan, nan], [6139, 5.5, nan, nan], [6750, 4.7, nan, nan], [4730, 4.4, nan, nan], [3694, 3.6, nan, nan], [5132, 2.9, nan, nan], [4701, 0.6, nan, nan], ['Rookie', 0.5, 0, 0]]\n"
     ]
    }
   ],
   "source": [
    "#Need to think some more about rookie score, not sure it's 100% right. Also need to think about if need to consider the fact that we only get points for the first 2 events a team plays at\n",
    "team_scores=[]\n",
    "rookies=0\n",
    "update_progress(0)\n",
    "for t in teams:\n",
    "    team_no=int(re.findall(r'\\d+',t)[0])\n",
    "    if(team_no<7400):\n",
    "        metrics=[[[],[],[]],[[],[],[]],[[],[],[]]]\n",
    "        for y in ['2018','2017','2016']:#'2018','2017',\n",
    "            event_keys=requests.get('https://www.thebluealliance.com/api/v3/team/'+t+'/events/'+y+'/keys',params=login)\n",
    "            r=requests.get('https://www.thebluealliance.com/api/v3/team/'+t+'/events/'+y+'/statuses',params=login)\n",
    "            keys=event_keys.json()\n",
    "            data=r.json()\n",
    "            for k in keys:\n",
    "                if(data[k]!=None):\n",
    "                    if(data[k]['qual']!=None):\n",
    "                        event=requests.get('https://www.thebluealliance.com/api/v3/event/'+k+'/simple',params=login)\n",
    "                        awards=requests.get('https://www.thebluealliance.com/api/v3/team/'+t+'/event/'+k+'/awards',params=login).json()\n",
    "                        if((event.json()['event_type']==1)or(event.json()['event_type']==0)):#regionals and districts\n",
    "                            score=qual_points(data[k]['qual']['ranking']['rank'],data[k]['qual']['num_teams'])\n",
    "                            if(data[k]['alliance']!=None):\n",
    "                                score+=pick_points(data[k]['alliance']['number'],data[k]['alliance']['pick'])+5*data[k]['playoff']['record']['wins']\n",
    "                            for i in range(len(awards)):\n",
    "                                if(awards[i]['award_type']==0):#chairman's\n",
    "                                    score+=60\n",
    "                                if(awards[i]['award_type']==9):#engineering inspiration\n",
    "                                    score+=45\n",
    "                                if any([awards[i]['award_type'] in [16,17,20,21,29,71]]):#robot awards\n",
    "                                    score+=20\n",
    "                                if any([awards[i]['award_type'] in [22,11,27,13,18,30]]):#others\n",
    "                                    score+=5\n",
    "                            metrics[2018-int(y)][0].append(score)\n",
    "                        elif(event.json()['event_type']==3):#champs divisions\n",
    "                            score=qual_points(data[k]['qual']['ranking']['rank'],data[k]['qual']['num_teams'])\n",
    "                            if(data[k]['alliance']!=None):\n",
    "                                score+=pick_points(data[k]['alliance']['number'],data[k]['alliance']['pick'])+5*data[k]['playoff']['record']['wins']\n",
    "                            for i in range(len(awards)):\n",
    "                                if(awards[i]['award_type']==0):#chairman's\n",
    "                                    score+=110\n",
    "                                if(awards[i]['award_type']==69):#chairman's finalist\n",
    "                                    score+=90\n",
    "                                if(awards[i]['award_type']==9):#engineering inspiration\n",
    "                                    score+=45\n",
    "                                if any([awards[i]['award_type'] in [16,17,20,21,29,71]]):#robot awards\n",
    "                                    score+=30\n",
    "                                if any([awards[i]['award_type'] in [22,11,27,13,18,30]]):#others\n",
    "                                    score+=10\n",
    "                            metrics[2018-int(y)][1].append(score)\n",
    "                    elif(data[k]['playoff']!=None):\n",
    "                        event=requests.get('https://www.thebluealliance.com/api/v3/event/'+k+'/simple',params=login)\n",
    "                        awards=requests.get('https://www.thebluealliance.com/api/v3/team/'+t+'/event/'+k+'/awards',params=login).json()\n",
    "                        if(event.json()['event_type']==4):#einstein\n",
    "                            score=5+5*data[k]['playoff']['record']['wins']\n",
    "                            for i in range(len(awards)):\n",
    "                                if(awards[i]['award_type']==0):#chairman's\n",
    "                                    score+=110\n",
    "                                if(awards[i]['award_type']==69):#chairman's finalist\n",
    "                                    score+=90\n",
    "                                if(awards[i]['award_type']==9):#engineering inspiration\n",
    "                                    score+=45\n",
    "                                if any([awards[i]['award_type'] in [16,17,20,21,29,71]]):#robot awards\n",
    "                                    score+=30\n",
    "                                if any([awards[i]['award_type'] in [22,11,27,13,18,30]]):#others\n",
    "                                    score+=10\n",
    "                            metrics[2018-int(y)][2].append(score)\n",
    "        mean=np.zeros(3)\n",
    "        std=np.zeros(3)\n",
    "        for i in range(3):\n",
    "            if(len(metrics[0][i])+len(metrics[1][i])+len(metrics[2][i])==0):\n",
    "                mean[i]=0\n",
    "            else:\n",
    "                mean[i]=(sum(metrics[0][i])+sum(metrics[1][i])/2+sum(metrics[2][i])/3)/(len(metrics[0][i])+len(metrics[1][i])/2+len(metrics[2][i])/3)\n",
    "            if(metrics[0][i]+metrics[1][i]+metrics[2][i]==None):\n",
    "                std[i]=0\n",
    "            else:\n",
    "                std[i]=np.std(metrics[0][i]+metrics[1][i]+metrics[2][i])\n",
    "        team_scores.append([team_no,round(mean[0]-std[0],1),round(mean[1]-std[1],1),round(mean[2]-std[2],1)])\n",
    "    else:\n",
    "        rookies+=1\n",
    "    update_progress((teams.index(t)+1)/len(teams))\n",
    "if(rookies>0):\n",
    "    num_events=len(requests.get('https://www.thebluealliance.com/api/v3//district/'+event_name+'/events/simple',params=login).json())\n",
    "    team_scores.append(['Rookie',round((40*num_events/rookies+13+236*num_events/len(teams))-19.2,1),0,0]) #40pts from rookie awards,13 avg ranking points,236 picking points\n",
    "team_scores.sort(key=lambda score: score[1], reverse=True)\n",
    "if(rookies>0): ind=team_scores.index(['Rookie',round((40*num_events/rookies+13+236*num_events/len(teams))-19.2,1),0,0])+1\n",
    "else: ind=int(np.floor(len(teams)/2))\n",
    "\n",
    "filename=event_name+'.csv'\n",
    "with open(filename,'a',newline='') as csv_file:\n",
    "    writer=csv.writer(csv_file)\n",
    "    for i in range(len(team_scores)):\n",
    "        writer.writerow(team_scores[i])\n",
    "        \n",
    "clear_output()\n",
    "print(str(ind+rookies)+': '+str(rookies)+' Rookies')\n",
    "print(team_scores[0:ind])#"
   ]
  },
  {
   "cell_type": "code",
   "execution_count": 11,
   "metadata": {},
   "outputs": [
    {
     "data": {
      "text/plain": [
       "<matplotlib.collections.PathCollection at 0x66c6240>"
      ]
     },
     "execution_count": 11,
     "metadata": {},
     "output_type": "execute_result"
    },
    {
     "data": {
      "image/png": "[encoded data removed]",
      "text/plain": [
       "<Figure size 72x432 with 1 Axes>"
      ]
     },
     "metadata": {},
     "output_type": "display_data"
    }
   ],
   "source": [
    "x=[0] *len(team_scores)\n",
    "y=[x[1] for x in team_scores]\n",
    "\n",
    "#not accurate average score for all events, need to try something like:\n",
    "tot_score=(468+236+85+60+45+25+15+20*5+10+9*5)*num_events #ranking points for 36team event,pick points,elim win points,chairmans,EI,RAS,RI,robot,WFFA,others\n",
    "\n",
    "#tot_score=236+85+60+45+25+15+20*5+10+9*5#pick points,elim win points,chairmans,EI,RAS,RI,robot,WFFA,others\n",
    "#for i in range(1,len(teams)+1):\n",
    "    #tot_score+=qual_points(i,len(teams))\n",
    "\n",
    "fig1=plt.figure(figsize=[1,6])\n",
    "ax1=plt.axes()\n",
    "ax1.axes.get_xaxis().set_visible(False)\n",
    "plt.axhline(y=tot_score/len(teams),c='black',linestyle='--')\n",
    "plt.scatter(x,y)\n",
    "plt.scatter(0,y[ind],c='red')"
   ]
  },
  {
   "cell_type": "code",
   "execution_count": 95,
   "metadata": {},
   "outputs": [
    {
     "name": "stdout",
     "output_type": "stream",
     "text": [
      "26.60282574568289 18.530068691300883\n"
     ]
    }
   ],
   "source": [
    "score_list=[]\n",
    "score=0\n",
    "for t in range(6800,7332):\n",
    "    t='frc'+str(t)\n",
    "    y='2018'\n",
    "    keys=requests.get('https://www.thebluealliance.com/api/v3/team/'+t+'/events/'+y+'/keys',params=login).json()\n",
    "    data=requests.get('https://www.thebluealliance.com/api/v3/team/'+t+'/events/'+y+'/statuses',params=login).json()\n",
    "    if('Errors' not in data):\n",
    "        for k in keys:\n",
    "            if(data[k]!=None):\n",
    "                if(data[k]['qual']!=None):\n",
    "                    event=requests.get('https://www.thebluealliance.com/api/v3/event/'+k+'/simple',params=login).json()\n",
    "                    awards=requests.get('https://www.thebluealliance.com/api/v3/team/'+t+'/event/'+k+'/awards',params=login).json()\n",
    "                    if((event['event_type']==1)or(event['event_type']==0)):#regionals and districts\n",
    "                        score=qual_points(data[k]['qual']['ranking']['rank'],data[k]['qual']['num_teams'])\n",
    "                        if(data[k]['alliance']!=None):\n",
    "                            score+=pick_points(data[k]['alliance']['number'],data[k]['alliance']['pick'])+5*data[k]['playoff']['record']['wins']\n",
    "                        for i in range(len(awards)):\n",
    "                            if(awards[i]['award_type']==0):#chairman's\n",
    "                                score+=60\n",
    "                            if(awards[i]['award_type']==9):#engineering inspiration\n",
    "                                score+=45\n",
    "                            if(awards[i]['award_type']==10):#Rookie All Star\n",
    "                                score+=25\n",
    "                            if(awards[i]['award_type']==15):#Rookie Inspiration\n",
    "                                score+=15\n",
    "                            if any([awards[i]['award_type'] in [16,17,20,21,29,71]]):#robot awards\n",
    "                                score+=20\n",
    "                            if any([awards[i]['award_type'] in [22,11,27,13,14,18,30]]):#others: 14 is highest rookie seed\n",
    "                                score+=5\n",
    "                        score_list.append(score)\n",
    "mean=np.mean(score_list)\n",
    "std=np.std(score_list)\n",
    "\n",
    "print(mean,std)"
   ]
  }
 ],
 "metadata": {
  "kernelspec": {
   "display_name": "Python 3",
   "language": "python",
   "name": "python3"
  },
  "language_info": {
   "codemirror_mode": {
    "name": "ipython",
    "version": 3
   },
   "file_extension": ".py",
   "mimetype": "text/x-python",
   "name": "python",
   "nbconvert_exporter": "python",
   "pygments_lexer": "ipython3",
   "version": "3.6.5"
  }
 },
 "nbformat": 4,
 "nbformat_minor": 2
}
